{
 "cells": [
  {
   "cell_type": "code",
   "execution_count": 19,
   "id": "1ab4dc4e",
   "metadata": {},
   "outputs": [],
   "source": [
    "from bing_image_downloader import downloader\n",
    "from pathlib import Path"
   ]
  },
  {
   "cell_type": "code",
   "execution_count": 20,
   "id": "309cf7a6",
   "metadata": {},
   "outputs": [],
   "source": [
    "CLASSES = [\"squirrel\"]\n",
    "IMAGES_PER_CLASS = 5   # change as needed\n",
    "BASE_DIR = Path(\"images\")\n",
    "\n",
    "def download_images():\n",
    "    for cls in CLASSES:\n",
    "        downloader.download(\n",
    "            query=cls,\n",
    "            limit=IMAGES_PER_CLASS,\n",
    "            output_dir=str(BASE_DIR),\n",
    "            adult_filter_off=True,\n",
    "            force_replace=False,\n",
    "            timeout=60,\n",
    "            verbose=True\n",
    "        )"
   ]
  },
  {
   "cell_type": "code",
   "execution_count": 21,
   "id": "ba34cfbe",
   "metadata": {},
   "outputs": [
    {
     "name": "stdout",
     "output_type": "stream",
     "text": [
      "[%] Downloading Images to /home/dhruv/camera/images/squirrel\n",
      "\n",
      "\n",
      "[!!]Indexing page: 1\n",
      "\n",
      "[%] Indexed 47 Images on Page 1.\n",
      "\n",
      "===============================================\n",
      "\n",
      "[%] Downloading Image #1 from https://upload.wikimedia.org/wikipedia/commons/1/15/EasternGraySquirrel_GAm.jpg\n",
      "[%] File Downloaded !\n",
      "\n",
      "[%] Downloading Image #2 from http://3.bp.blogspot.com/-p1atw8dql5Y/T-bu1DLjnNI/AAAAAAAACwM/fy0_fwPR2wM/s1600/Squirrel+Pictures.jpg\n",
      "[%] File Downloaded !\n",
      "\n",
      "[%] Downloading Image #3 from https://cdn.britannica.com/55/145555-050-2808426A/squirrels-red-North-American-United-Kingdom-most.jpg\n",
      "[Error]Invalid image, not saving https://cdn.britannica.com/55/145555-050-2808426A/squirrels-red-North-American-United-Kingdom-most.jpg\n",
      "\n",
      "[!] Issue getting: https://cdn.britannica.com/55/145555-050-2808426A/squirrels-red-North-American-United-Kingdom-most.jpg\n",
      "[!] Error:: Invalid image, not saving https://cdn.britannica.com/55/145555-050-2808426A/squirrels-red-North-American-United-Kingdom-most.jpg\n",
      "\n",
      "[%] Downloading Image #3 from https://www.color-meanings.com/wp-content/uploads/2022/05/American-Red-Squirrel-1536x1024.jpeg\n",
      "[%] File Downloaded !\n",
      "\n",
      "[%] Downloading Image #4 from http://eskipaper.com/images/squirrel-pictures-9.jpg\n",
      "[%] File Downloaded !\n",
      "\n",
      "[%] Downloading Image #5 from https://www.publicdomainpictures.net/pictures/70000/velka/squirrel-1389456357XtS.jpg\n",
      "[!] Issue getting: https://www.publicdomainpictures.net/pictures/70000/velka/squirrel-1389456357XtS.jpg\n",
      "[!] Error:: HTTP Error 403: Forbidden\n",
      "[%] Downloading Image #5 from http://www.pestworld.org/media/561706/istock_000011878152_full_gray-squirrel.jpg\n",
      "[%] File Downloaded !\n",
      "\n",
      "\n",
      "\n",
      "[%] Done. Downloaded 5 images.\n"
     ]
    }
   ],
   "source": [
    "download_images()"
   ]
  },
  {
   "cell_type": "code",
   "execution_count": null,
   "id": "1dac893e",
   "metadata": {},
   "outputs": [],
   "source": []
  }
 ],
 "metadata": {
  "kernelspec": {
   "display_name": "camera",
   "language": "python",
   "name": "python3"
  },
  "language_info": {
   "codemirror_mode": {
    "name": "ipython",
    "version": 3
   },
   "file_extension": ".py",
   "mimetype": "text/x-python",
   "name": "python",
   "nbconvert_exporter": "python",
   "pygments_lexer": "ipython3",
   "version": "3.10.12"
  }
 },
 "nbformat": 4,
 "nbformat_minor": 5
}
